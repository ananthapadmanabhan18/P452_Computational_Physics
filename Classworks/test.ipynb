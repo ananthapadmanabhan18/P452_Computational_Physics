{
 "cells": [
  {
   "cell_type": "markdown",
   "metadata": {},
   "source": [
    "# Power Method"
   ]
  },
  {
   "cell_type": "code",
   "execution_count": 1,
   "metadata": {},
   "outputs": [
    {
     "name": "stdout",
     "output_type": "stream",
     "text": [
      "[2. 4. 6. 8.]\n",
      "(7.999999002873864, array([[4.99281015e-04],\n",
      "       [1.66473835e-04],\n",
      "       [7.06773763e-01],\n",
      "       [7.07439447e-01]]), 23)\n"
     ]
    }
   ],
   "source": [
    "import numpy as np\n",
    "def power_method_find(A :list,x0: list,tol = 1e-6):\n",
    "    '''\n",
    "    # Power Method\n",
    "    This function finds the largest eigenvalue and the corresponding eigenvector\n",
    "\n",
    "    ## Condition\n",
    "    - n x n matrix A has n linearly independent eigenvectors\n",
    "    - Eigenvalues can be ordered in magnitude : |λ1| > |λ2| > · · · > |λn|. The λ1 is called the dominant eigenvalue and the corresponding eigenvector is the dominant eigenvector of A.\n",
    "\n",
    "    ## Paremeters\n",
    "    - A: The matrix for which the eigenvalues and eigenvectors are to be found\n",
    "    - x0: The initial guess for the eigenvector\n",
    "    - tol: The tolerance for the solution\n",
    "    ## Returns\n",
    "    - eigval: The largest eigenvalue\n",
    "    - eigvec: The corresponding eigenvector\n",
    "    '''\n",
    "    A=np.array(A)\n",
    "    x0=np.array(x0)\n",
    "    x_copy = np.copy(x0)\n",
    "    lam_0 = np.matmul(np.matmul(np.linalg.matrix_power(A,2),x0).T,np.matmul(np.linalg.matrix_power(A,1),x0))[0][0]/np.matmul(np.matmul(np.linalg.matrix_power(A,1),x0).T,np.matmul(np.linalg.matrix_power(A,1),x0))[0][0]\n",
    "    lam_1 = np.matmul(np.matmul(np.linalg.matrix_power(A,3),x0).T,np.matmul(np.linalg.matrix_power(A,2),x0))[0][0]/np.matmul(np.matmul(np.linalg.matrix_power(A,2),x0).T,np.matmul(np.linalg.matrix_power(A,2),x0))[0][0]\n",
    "    i=3\n",
    "    while abs(lam_1-lam_0)>tol:\n",
    "        lam_0 = lam_1\n",
    "        lam_1 = np.matmul(np.matmul(np.linalg.matrix_power(A,i+1),x0).T,np.matmul(np.linalg.matrix_power(A,i),x0))[0][0]/np.matmul(np.matmul(np.linalg.matrix_power(A,i),x0).T,np.matmul(np.linalg.matrix_power(A,i),x0))[0][0]\n",
    "        i+=1\n",
    "\n",
    "    eigval = lam_1\n",
    "    eigvec = np.matmul(np.linalg.matrix_power(A,i-1),x_copy)\n",
    "    norm = np.linalg.norm(eigvec)\n",
    "    eigvec = eigvec/norm\n",
    "    return eigval,eigvec,i    \n",
    "\n",
    "\n",
    "A = np.array([\n",
    "    [4,    2/3, -4/3, 4/3],\n",
    "    [2/3,   4,   0,    0],\n",
    "    [-4/3,  0,   6,    2],\n",
    "    [4/3,   0,   2,    6]\n",
    "    ])\n",
    "\n",
    "x0 =np.array([[4],[3],[7],[9]])\n",
    "val,vec = np.linalg.eigh(A)\n",
    "print(val)\n",
    "print(power_method_find(A,x0))\n",
    "\n"
   ]
  },
  {
   "cell_type": "code",
   "execution_count": 3,
   "metadata": {},
   "outputs": [
    {
     "data": {
      "text/plain": [
       "array([1., 1.])"
      ]
     },
     "execution_count": 3,
     "metadata": {},
     "output_type": "execute_result"
    }
   ],
   "source": [
    "import numpy as np\n",
    "A = np.ones(2)\n",
    "A"
   ]
  },
  {
   "cell_type": "markdown",
   "metadata": {},
   "source": [
    "# Linear fitting"
   ]
  },
  {
   "cell_type": "code",
   "execution_count": 46,
   "metadata": {},
   "outputs": [
    {
     "data": {
      "text/plain": [
       "(2.0, 0.0, 1.0)"
      ]
     },
     "execution_count": 46,
     "metadata": {},
     "output_type": "execute_result"
    }
   ],
   "source": [
    "def linear_fit(xlist: list,ylist: list,elist: list):\n",
    "    '''\n",
    "    # Linear Regression\n",
    "    This function finds the best fit line for a given set of data points\n",
    "    Finds the fit for the equation y = a + bx\n",
    "    ## Parameters\n",
    "    - xlist: The x-coordinates of the data points\n",
    "    - ylist: The y-coordinates of the data points\n",
    "    - elist: The error in the y-coordinates of the data points. If elist=False, the function will assume that the error is 1 for all data points\n",
    "    ## Returns\n",
    "    - slope: The slope of the best fit line\n",
    "    - intercept: The y-intercept of the best fit line\n",
    "    - chi_sq: The chi-squared value of the best fit line\n",
    "    '''\n",
    "    # Raise an error if the lengths of xlist, ylist, and elist are not the same\n",
    "    if len(xlist) != len(ylist):\n",
    "        raise ValueError('The length of xlist, ylist, and elist must be the same')\n",
    "    \n",
    "    # If elist is False, assume that the error is 1 for all data points\n",
    "    if elist == False:\n",
    "        elist = [1]*len(xlist)\n",
    "    # Convert the lists to numpy arrays\n",
    "    xlist = np.array(xlist)\n",
    "    ylist = np.array(ylist)\n",
    "    elist = np.array(elist)\n",
    "    n=len(xlist)\n",
    "    # Calculate the sums\n",
    "    S=np.sum(1/((elist)**2))\n",
    "    Sx = np.sum(xlist/((elist)**2))\n",
    "    Sy = np.sum(ylist/((elist)**2))\n",
    "    Sxx = np.sum((xlist**2)/((elist)**2))\n",
    "    Syy = np.sum((ylist**2)/((elist)**2))\n",
    "    Sxy = np.sum((xlist*ylist)/((elist)**2))\n",
    "\n",
    "    # Calculate the slope and intercept\n",
    "    Delta = S*Sxx - Sx**2\n",
    "\n",
    "    intercept=(Sxx*Sy-Sx*Sxy)/Delta\n",
    "    slope=(S*Sxy-Sx*Sy)/Delta\n",
    "    # Calculate the error in the slope and intercept\n",
    "    # error_intercept = np.sqrt(Sxx/Delta)\n",
    "    # error_slope = np.sqrt(S/Delta)\n",
    "    # cov = -Sx/Delta\n",
    "    # Pearsen's correlation coefficient\n",
    "    r_sq = Sxy/np.sqrt(Sxx*Syy) \n",
    "\n",
    "    return slope,intercept,np.sqrt(r_sq)\n",
    "\n",
    "\n",
    "\n",
    "\n",
    "xlist = [1,2,3,4,5]\n",
    "ylist = [2,4,6,8,10]\n",
    "elist = [1,1,1,1,1]\n",
    "linear_fit(xlist,ylist,elist)"
   ]
  },
  {
   "cell_type": "markdown",
   "metadata": {},
   "source": [
    "# Polynomial fit\n"
   ]
  },
  {
   "cell_type": "code",
   "execution_count": 65,
   "metadata": {},
   "outputs": [
    {
     "data": {
      "text/plain": [
       "array([ 0., -0.,  1.])"
      ]
     },
     "execution_count": 65,
     "metadata": {},
     "output_type": "execute_result"
    }
   ],
   "source": [
    "import numpy as np\n",
    "from Library_Classworks import Gauss_seidel_solve,gauss_jordan_solve\n",
    "\n",
    "def polynomial_fit(xlist: list,ylist: list,sigma_list: list,degree: int,tol=1e-6):\n",
    "    '''\n",
    "    # Polynomial Fitting\n",
    "    This function finds the best fit polynomial for a given set of data points\n",
    "    Finds the fit for the equation y = a0 + a1*x + a2*x^2 + ... + an*x^n\n",
    "    ## Parameters\n",
    "    - xlist: The x-coordinates of the data points\n",
    "    - ylist: The y-coordinates of the data points\n",
    "    - sigma_list: The error in the y-coordinates of the data points\n",
    "    - degree: The degree of the polynomial to be fit\n",
    "    ## Returns\n",
    "    - a: The coefficients of the best fit polynomial\n",
    "    '''\n",
    "    xlist = np.array(xlist)\n",
    "    ylist = np.array(ylist)\n",
    "    sigma_list = np.array(sigma_list)\n",
    "    A_matrix = np.zeros((degree+1,degree+1))\n",
    "\n",
    "    for i in range(degree+1):\n",
    "        for j in range(degree+1):\n",
    "            A_matrix[i][j] = np.sum((xlist**(i+j))/(sigma_list**2))\n",
    "    B_matrix = np.zeros(degree+1)\n",
    "    for i in range(degree+1):\n",
    "        B_matrix[i] = np.sum((ylist*(xlist**i))/(sigma_list**2))\n",
    "    a = np.linalg.solve(A_matrix,B_matrix)\n",
    "    return a\n",
    "\n",
    "\n",
    "xlist = [1,2,3,4,5]\n",
    "ylist = [1,4,9,16,25]\n",
    "sigma_list = [1,1,1,1,1]\n",
    "degree = 2\n",
    "polynomial_fit(xlist,ylist,sigma_list,degree)\n"
   ]
  },
  {
   "cell_type": "code",
   "execution_count": 3,
   "metadata": {},
   "outputs": [
    {
     "data": {
      "text/plain": [
       "(0.28366218546322625-0.9589242746631385j)"
      ]
     },
     "execution_count": 3,
     "metadata": {},
     "output_type": "execute_result"
    }
   ],
   "source": []
  }
 ],
 "metadata": {
  "kernelspec": {
   "display_name": "Python 3",
   "language": "python",
   "name": "python3"
  },
  "language_info": {
   "codemirror_mode": {
    "name": "ipython",
    "version": 3
   },
   "file_extension": ".py",
   "mimetype": "text/x-python",
   "name": "python",
   "nbconvert_exporter": "python",
   "pygments_lexer": "ipython3",
   "version": "3.11.6"
  }
 },
 "nbformat": 4,
 "nbformat_minor": 2
}
