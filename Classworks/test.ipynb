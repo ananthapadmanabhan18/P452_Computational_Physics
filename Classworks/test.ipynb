{
 "cells": [
  {
   "cell_type": "code",
   "execution_count": 1,
   "metadata": {},
   "outputs": [],
   "source": [
    "import numpy as np"
   ]
  },
  {
   "cell_type": "code",
   "execution_count": 2,
   "metadata": {},
   "outputs": [
    {
     "name": "stdout",
     "output_type": "stream",
     "text": [
      "[2. 4. 6. 8.]\n",
      "(7.999999002873864, array([[4.99281015e-04],\n",
      "       [1.66473835e-04],\n",
      "       [7.06773763e-01],\n",
      "       [7.07439447e-01]]), 23)\n"
     ]
    }
   ],
   "source": [
    "def power_method_find(A :list,x0: list,tol = 1e-6):\n",
    "    '''\n",
    "    # Power Method\n",
    "    This function finds the largest eigenvalue and the corresponding eigenvector\n",
    "\n",
    "    ## Condition\n",
    "    - n x n matrix A has n linearly independent eigenvectors\n",
    "    - Eigenvalues can be ordered in magnitude : |λ1| > |λ2| > · · · > |λn|. The λ1 is called the dominant eigenvalue and the corresponding eigenvector is the dominant eigenvector of A.\n",
    "\n",
    "    ## Paremeters\n",
    "    - A: The matrix for which the eigenvalues and eigenvectors are to be found\n",
    "    - x0: The initial guess for the eigenvector\n",
    "    - tol: The tolerance for the solution\n",
    "    ## Returns\n",
    "    - eigval: The largest eigenvalue\n",
    "    - eigvec: The corresponding eigenvector\n",
    "    '''\n",
    "    A=np.array(A)\n",
    "    x0=np.array(x0)\n",
    "    x_copy = np.copy(x0)\n",
    "    lam_0 = np.matmul(np.matmul(np.linalg.matrix_power(A,2),x0).T,np.matmul(np.linalg.matrix_power(A,1),x0))[0][0]/np.matmul(np.matmul(np.linalg.matrix_power(A,1),x0).T,np.matmul(np.linalg.matrix_power(A,1),x0))[0][0]\n",
    "    lam_1 = np.matmul(np.matmul(np.linalg.matrix_power(A,3),x0).T,np.matmul(np.linalg.matrix_power(A,2),x0))[0][0]/np.matmul(np.matmul(np.linalg.matrix_power(A,2),x0).T,np.matmul(np.linalg.matrix_power(A,2),x0))[0][0]\n",
    "    i=3\n",
    "    while abs(lam_1-lam_0)>tol:\n",
    "        lam_0 = lam_1\n",
    "        lam_1 = np.matmul(np.matmul(np.linalg.matrix_power(A,i+1),x0).T,np.matmul(np.linalg.matrix_power(A,i),x0))[0][0]/np.matmul(np.matmul(np.linalg.matrix_power(A,i),x0).T,np.matmul(np.linalg.matrix_power(A,i),x0))[0][0]\n",
    "        i+=1\n",
    "\n",
    "    eigval = lam_1\n",
    "    eigvec = np.matmul(np.linalg.matrix_power(A,i-1),x_copy)\n",
    "    norm = np.linalg.norm(eigvec)\n",
    "    eigvec = eigvec/norm\n",
    "    return eigval,eigvec,i    \n",
    "\n",
    "\n",
    "A = np.array([\n",
    "    [4,    2/3, -4/3, 4/3],\n",
    "    [2/3,   4,   0,    0],\n",
    "    [-4/3,  0,   6,    2],\n",
    "    [4/3,   0,   2,    6]\n",
    "    ])\n",
    "\n",
    "\n",
    "x0 =np.array([[4],[3],[7],[9]])\n",
    "\n",
    "\n",
    "val,vec = np.linalg.eigh(A)\n",
    "print(val)\n",
    "\n",
    "print(power_method_find(A,x0))\n",
    "\n",
    "\n",
    "# print(np.matmul(np.linalg.matrix_power(A,1),x0))\n",
    "\n",
    "# print(x0.T)\n",
    "\n",
    "# print(np.matmul(np.matmul(np.linalg.matrix_power(A,2),x0).T,x0)[0[0][0]][0])\n",
    "\n"
   ]
  },
  {
   "cell_type": "code",
   "execution_count": 9,
   "metadata": {},
   "outputs": [
    {
     "name": "stdout",
     "output_type": "stream",
     "text": [
      "Q:\n",
      "[[ 0.26726124 -0.61977979  0.73786479]\n",
      " [ 0.53452248  0.73246702  0.42163702]\n",
      " [ 0.80178373 -0.28171808 -0.52704628]]\n",
      "R:\n",
      "[[ 3.74165739  2.13808994  2.13808994]\n",
      " [ 0.          2.53546276 -3.77502234]\n",
      " [ 0.          0.          1.47572957]]\n",
      "Q\n",
      "[[-0.26726124  0.61977979 -0.73786479]\n",
      " [-0.53452248 -0.73246702 -0.42163702]\n",
      " [-0.80178373  0.28171808  0.52704628]]\n",
      "R\n",
      "[[-3.74165739 -2.13808994 -2.13808994]\n",
      " [ 0.         -2.53546276  3.77502234]\n",
      " [ 0.          0.         -1.47572957]]\n"
     ]
    }
   ],
   "source": [
    "import numpy as np\n",
    "\n",
    "\n",
    "\n",
    "# Example usage:\n",
    "A = np.array([[1, -1, 4], [2, 3, -1], [3, 1, 2]])\n",
    "Q, R = QR_factorize(A)\n",
    "print(\"Q:\")\n",
    "print(Q)\n",
    "print(\"R:\")\n",
    "print(R)\n",
    "\n",
    "\n",
    "\n",
    "P,U = np.linalg.qr(A)\n",
    "\n",
    "print(\"Q\")\n",
    "print(P)\n",
    "\n",
    "print(\"R\")\n",
    "print(U)\n"
   ]
  },
  {
   "cell_type": "code",
   "execution_count": null,
   "metadata": {},
   "outputs": [],
   "source": [
    "n = 50\n",
    "m = 0.2\n",
    "# define the delta function\n",
    "def delta(i, j):\n",
    "    return 1 if i == j else 0\n",
    "\n",
    "# define the A matrix\n",
    "def A_ij(i, j, mu = 1, m = 0.2):\n",
    "    return 0.5 * (delta(i + mu, j) + delta(i - mu, j)- 2*delta(i, j)) + m**2 * delta(i, j) if not ((i == 0 and j == n-1) or (i == n-1 and j == 0)) else 0.5   # impose periodic boundary conditions"
   ]
  }
 ],
 "metadata": {
  "kernelspec": {
   "display_name": "Python 3",
   "language": "python",
   "name": "python3"
  },
  "language_info": {
   "codemirror_mode": {
    "name": "ipython",
    "version": 3
   },
   "file_extension": ".py",
   "mimetype": "text/x-python",
   "name": "python",
   "nbconvert_exporter": "python",
   "pygments_lexer": "ipython3",
   "version": "3.11.6"
  }
 },
 "nbformat": 4,
 "nbformat_minor": 2
}
