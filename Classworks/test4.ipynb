{
 "cells": [
  {
   "cell_type": "code",
   "execution_count": 2,
   "metadata": {},
   "outputs": [],
   "source": [
    "import numpy as np"
   ]
  },
  {
   "cell_type": "code",
   "execution_count": 9,
   "metadata": {},
   "outputs": [
    {
     "name": "stdout",
     "output_type": "stream",
     "text": [
      "U:\n",
      " [[-0.75774021 -0.65255634]\n",
      " [-0.65255634  0.75774021]]\n",
      "Σ:\n",
      " [array([5.06081754, 2.32123368])]\n",
      "V^T:\n",
      " [[-0.70706625 -0.68628229 -0.17051081]\n",
      " [-0.19049723  0.41706613 -0.88868816]\n",
      " [-0.68100522  0.59587957  0.42562827]]\n",
      "U:\n",
      " [[ 0.65255634 -0.75774021]\n",
      " [-0.75774021 -0.65255634]]\n",
      "Σ:\n",
      " [[5.8872553070184244e-08, 2.3212336788702808, 5.06081754344872]]\n",
      "V^T:\n",
      " [[-0.68100522  0.19049723 -0.70706625]\n",
      " [ 0.59587957 -0.41706613 -0.68628229]\n",
      " [ 0.42562827  0.88868816 -0.17051081]]\n"
     ]
    }
   ],
   "source": [
    "def Singlular_value_decompose(A):\n",
    "    \"\"\"\n",
    "    Compute the Singular Value Decomposition (SVD) of a matrix A.\n",
    "    \n",
    "    Parameters:\n",
    "    A (list of lists): The input matrix.\n",
    "    \n",
    "    Returns:\n",
    "    U (list of lists): The left singular vectors.\n",
    "    s (list): The singular values.\n",
    "    V (list of lists): The right singular vectors.\n",
    "    \"\"\"\n",
    "    A = np.array(A)\n",
    "    # Get the dimensions of the matrix\n",
    "    m, n = len(A), len(A[0])\n",
    "    \n",
    "    # Step 1: Compute the covariance matrix A^T A\n",
    "    A_T = A.T\n",
    "    A_T_A = np.matmul(A_T, A)\n",
    "    \n",
    "    # Step 2: Find the eigenvalues and eigenvectors of the covariance matrix\n",
    "    eigenvalues, eigenvectors = np.linalg.eigh(A_T_A)\n",
    "    \n",
    "    # Step 3: The singular values s are the square roots of the eigenvalues\n",
    "    s = [np.sqrt(ev) for ev in eigenvalues]\n",
    "    \n",
    "    # Step 4: The left singular vectors U are the eigenvectors of A A^T\n",
    "    A_A_T = np.matmul(A, A_T)\n",
    "    l,U = np.linalg.eigh(A_A_T)\n",
    "    \n",
    "    # Step 5: The right singular vectors V are the eigenvectors of A^T A\n",
    "    V = eigenvectors\n",
    "    \n",
    "    return U, s, V\n",
    "\n",
    "\n",
    "\n",
    "\n",
    "\n",
    "\n",
    "# Example usage\n",
    "A = [\n",
    "    [3, 2, 2], \n",
    "    [2, 3, -1]\n",
    "    ]\n",
    "\n",
    "U,s,V= np.linalg.svd(A)\n",
    "\n",
    "print(\"U:\\n\", U)\n",
    "print(\"Σ:\\n\", [s])\n",
    "print(\"V^T:\\n\", V)\n",
    "\n",
    "\n",
    "U, s, V = Singlular_value_decompose(A)\n",
    "\n",
    "\n",
    "\n",
    "\n",
    "\n",
    "print(\"U:\\n\", U)\n",
    "print(\"Σ:\\n\", [s])\n",
    "print(\"V^T:\\n\", V)\n",
    "\n",
    "\n"
   ]
  }
 ],
 "metadata": {
  "kernelspec": {
   "display_name": "Python 3",
   "language": "python",
   "name": "python3"
  },
  "language_info": {
   "codemirror_mode": {
    "name": "ipython",
    "version": 3
   },
   "file_extension": ".py",
   "mimetype": "text/x-python",
   "name": "python",
   "nbconvert_exporter": "python",
   "pygments_lexer": "ipython3",
   "version": "3.11.6"
  }
 },
 "nbformat": 4,
 "nbformat_minor": 2
}
