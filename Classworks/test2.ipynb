{
 "cells": [
  {
   "cell_type": "code",
   "execution_count": 1,
   "metadata": {},
   "outputs": [],
   "source": [
    "import numpy as np\n",
    "\n",
    "\n",
    "def k_func(x):\n",
    "    return 0.00001+ 0.00001*x**2\n",
    "\n",
    "\n",
    "def create_B(n):\n",
    "    B = np.zeros((n,n))\n",
    "    for i in range(n):\n",
    "        B[i,i] = 2\n",
    "        if i > 0:\n",
    "            B[i,i-1] = -1\n",
    "        if i < n-1:\n",
    "            B[i,i+1] = -1\n",
    "    return B\n",
    "\n",
    "\n",
    "def create_matrix(B,I,hx,ht,k,i):\n",
    "    alpha = (ht / (hx**2))/k(i)\n",
    "    matrix = np.matmul(np.linalg.inv(2*I+alpha*B),2*I-alpha*B)\n",
    "    return matrix\n",
    "\n",
    "\n",
    "def Crank_nico(g,a,b,xi,xf,ti,tf,nx,nt,k,req_time):\n",
    "    hx = (xf - xi) / nx\n",
    "    ht = (tf - ti) / nt\n",
    "    x=[xi + i*hx for i in range(1,nx)]\n",
    "    V0 = [[g(i)] for i in x]\n",
    "    B = create_B(len(x))\n",
    "    I = np.identity(len(x))\n",
    "    for i in range(req_time):\n",
    "        matrix = create_matrix(B,I,hx,ht,k,i)\n",
    "        V1 = np.matmul(matrix,V0)\n",
    "        V0 = V1\n",
    "    V1 = V1.tolist() \n",
    "    V1.insert(0,[a(ti + i*req_time)])\n",
    "    V1.append([b(ti + i*req_time)])\n",
    "    x.insert(0,xi)\n",
    "    x.append(xf)\n",
    "    return V1,x\n"
   ]
  },
  {
   "cell_type": "code",
   "execution_count": 2,
   "metadata": {},
   "outputs": [
    {
     "name": "stdout",
     "output_type": "stream",
     "text": [
      "0.18518518518518515\n"
     ]
    },
    {
     "ename": "TypeError",
     "evalue": "bad operand type for unary -: 'function'",
     "output_type": "error",
     "traceback": [
      "\u001b[1;31m---------------------------------------------------------------------------\u001b[0m",
      "\u001b[1;31mTypeError\u001b[0m                                 Traceback (most recent call last)",
      "Cell \u001b[1;32mIn[2], line 39\u001b[0m\n\u001b[0;32m     35\u001b[0m \u001b[38;5;28;01mimport\u001b[39;00m \u001b[38;5;21;01mmatplotlib\u001b[39;00m\u001b[38;5;21;01m.\u001b[39;00m\u001b[38;5;21;01mpyplot\u001b[39;00m \u001b[38;5;28;01mas\u001b[39;00m \u001b[38;5;21;01mplt\u001b[39;00m\n\u001b[0;32m     38\u001b[0m \u001b[38;5;28;01mfor\u001b[39;00m i \u001b[38;5;129;01min\u001b[39;00m \u001b[38;5;28mrange\u001b[39m(\u001b[38;5;241m6\u001b[39m\u001b[38;5;241m*\u001b[39m\u001b[38;5;241m3600\u001b[39m\u001b[38;5;241m-\u001b[39m\u001b[38;5;241m1\u001b[39m,\u001b[38;5;241m6\u001b[39m\u001b[38;5;241m*\u001b[39m\u001b[38;5;241m3600\u001b[39m):\n\u001b[1;32m---> 39\u001b[0m     T,x \u001b[38;5;241m=\u001b[39m \u001b[43mCrank_nico\u001b[49m\u001b[43m(\u001b[49m\u001b[43mg\u001b[49m\u001b[43m,\u001b[49m\u001b[43ma\u001b[49m\u001b[43m,\u001b[49m\u001b[43mb\u001b[49m\u001b[43m,\u001b[49m\u001b[43mx_i_qn3\u001b[49m\u001b[43m,\u001b[49m\u001b[43mx_f_qn3\u001b[49m\u001b[43m,\u001b[49m\u001b[43mt_i_qn3\u001b[49m\u001b[43m,\u001b[49m\u001b[43mt_f_qn3\u001b[49m\u001b[43m,\u001b[49m\u001b[43mnx_qn3\u001b[49m\u001b[43m,\u001b[49m\u001b[43mnt_qn3\u001b[49m\u001b[43m,\u001b[49m\u001b[43mk_func\u001b[49m\u001b[43m,\u001b[49m\u001b[43mi\u001b[49m\u001b[43m)\u001b[49m\n\u001b[0;32m     40\u001b[0m     plt\u001b[38;5;241m.\u001b[39mplot(x,T)\n\u001b[0;32m     42\u001b[0m plt\u001b[38;5;241m.\u001b[39mshow()\n",
      "Cell \u001b[1;32mIn[1], line 29\u001b[0m, in \u001b[0;36mCrank_nico\u001b[1;34m(g, a, b, xi, xf, ti, tf, nx, nt, k, req_time)\u001b[0m\n\u001b[0;32m     27\u001b[0m ht \u001b[38;5;241m=\u001b[39m (tf \u001b[38;5;241m-\u001b[39m ti) \u001b[38;5;241m/\u001b[39m nt\n\u001b[0;32m     28\u001b[0m x\u001b[38;5;241m=\u001b[39m[xi \u001b[38;5;241m+\u001b[39m i\u001b[38;5;241m*\u001b[39mhx \u001b[38;5;28;01mfor\u001b[39;00m i \u001b[38;5;129;01min\u001b[39;00m \u001b[38;5;28mrange\u001b[39m(\u001b[38;5;241m1\u001b[39m,nx)]\n\u001b[1;32m---> 29\u001b[0m V0 \u001b[38;5;241m=\u001b[39m \u001b[43m[\u001b[49m\u001b[43m[\u001b[49m\u001b[43mg\u001b[49m\u001b[43m(\u001b[49m\u001b[43mi\u001b[49m\u001b[43m)\u001b[49m\u001b[43m]\u001b[49m\u001b[43m \u001b[49m\u001b[38;5;28;43;01mfor\u001b[39;49;00m\u001b[43m \u001b[49m\u001b[43mi\u001b[49m\u001b[43m \u001b[49m\u001b[38;5;129;43;01min\u001b[39;49;00m\u001b[43m \u001b[49m\u001b[43mx\u001b[49m\u001b[43m]\u001b[49m\n\u001b[0;32m     30\u001b[0m B \u001b[38;5;241m=\u001b[39m create_B(\u001b[38;5;28mlen\u001b[39m(x))\n\u001b[0;32m     31\u001b[0m I \u001b[38;5;241m=\u001b[39m np\u001b[38;5;241m.\u001b[39midentity(\u001b[38;5;28mlen\u001b[39m(x))\n",
      "Cell \u001b[1;32mIn[1], line 29\u001b[0m, in \u001b[0;36m<listcomp>\u001b[1;34m(.0)\u001b[0m\n\u001b[0;32m     27\u001b[0m ht \u001b[38;5;241m=\u001b[39m (tf \u001b[38;5;241m-\u001b[39m ti) \u001b[38;5;241m/\u001b[39m nt\n\u001b[0;32m     28\u001b[0m x\u001b[38;5;241m=\u001b[39m[xi \u001b[38;5;241m+\u001b[39m i\u001b[38;5;241m*\u001b[39mhx \u001b[38;5;28;01mfor\u001b[39;00m i \u001b[38;5;129;01min\u001b[39;00m \u001b[38;5;28mrange\u001b[39m(\u001b[38;5;241m1\u001b[39m,nx)]\n\u001b[1;32m---> 29\u001b[0m V0 \u001b[38;5;241m=\u001b[39m [[\u001b[43mg\u001b[49m\u001b[43m(\u001b[49m\u001b[43mi\u001b[49m\u001b[43m)\u001b[49m] \u001b[38;5;28;01mfor\u001b[39;00m i \u001b[38;5;129;01min\u001b[39;00m x]\n\u001b[0;32m     30\u001b[0m B \u001b[38;5;241m=\u001b[39m create_B(\u001b[38;5;28mlen\u001b[39m(x))\n\u001b[0;32m     31\u001b[0m I \u001b[38;5;241m=\u001b[39m np\u001b[38;5;241m.\u001b[39midentity(\u001b[38;5;28mlen\u001b[39m(x))\n",
      "Cell \u001b[1;32mIn[2], line 21\u001b[0m, in \u001b[0;36mg\u001b[1;34m(x)\u001b[0m\n\u001b[0;32m     20\u001b[0m \u001b[38;5;28;01mdef\u001b[39;00m \u001b[38;5;21mg\u001b[39m(x):\n\u001b[1;32m---> 21\u001b[0m     \u001b[38;5;28;01mreturn\u001b[39;00m \u001b[38;5;241m20\u001b[39m \u001b[38;5;241m+\u001b[39m \u001b[38;5;241m5\u001b[39m\u001b[38;5;241m*\u001b[39mnp\u001b[38;5;241m.\u001b[39mexp(\u001b[38;5;241;43m-\u001b[39;49m\u001b[43ma\u001b[49m\u001b[38;5;241m*\u001b[39mx)\u001b[38;5;241m*\u001b[39mnp\u001b[38;5;241m.\u001b[39msin(\u001b[38;5;241m-\u001b[39mb\u001b[38;5;241m*\u001b[39mx)\n",
      "\u001b[1;31mTypeError\u001b[0m: bad operand type for unary -: 'function'"
     ]
    }
   ],
   "source": [
    "x_i_qn3 = 0   \n",
    "x_f_qn3 = 10   \n",
    "nx_qn3 = 400\n",
    "t_i_qn3 = 0   \n",
    "t_f_qn3 = 10  \n",
    "nt_qn3 = 24*3600\n",
    "\n",
    "\n",
    "hx = (x_f_qn3 - x_i_qn3)/nx_qn3 \n",
    "ht = (t_f_qn3 - t_i_qn3)/nt_qn3 \n",
    "\n",
    "alpha_qn3 = ht/(hx**2)\n",
    "print(alpha_qn3)\n",
    "\n",
    "\n",
    "a1 = 887.25\n",
    "b1 = 469.85\n",
    "\n",
    "\n",
    "def g(x):\n",
    "    return 20 + 5*np.exp(-a1*x)*np.sin(-b1*x)\n",
    "\n",
    "\n",
    "def a(t):\n",
    "    return 20 + 5*np.sin(2*np.pi*t/(24*3600))\n",
    "\n",
    "def b(t):\n",
    "    return 20\n",
    "\n",
    "\n",
    "\n",
    "\n",
    "\n",
    "\n",
    "import matplotlib.pyplot as plt\n",
    "\n",
    "\n",
    "for i in range(6*3600-1,6*3600):\n",
    "    T,x = Crank_nico(g,a,b,x_i_qn3,x_f_qn3,t_i_qn3,t_f_qn3,nx_qn3,nt_qn3,k_func,i)\n",
    "    plt.plot(x,T)\n",
    "\n",
    "plt.show()"
   ]
  },
  {
   "cell_type": "markdown",
   "metadata": {},
   "source": []
  }
 ],
 "metadata": {
  "kernelspec": {
   "display_name": "Python 3",
   "language": "python",
   "name": "python3"
  },
  "language_info": {
   "codemirror_mode": {
    "name": "ipython",
    "version": 3
   },
   "file_extension": ".py",
   "mimetype": "text/x-python",
   "name": "python",
   "nbconvert_exporter": "python",
   "pygments_lexer": "ipython3",
   "version": "3.11.6"
  }
 },
 "nbformat": 4,
 "nbformat_minor": 2
}
