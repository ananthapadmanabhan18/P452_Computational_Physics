{
 "cells": [
  {
   "cell_type": "markdown",
   "metadata": {},
   "source": [
    "# __Assignment-1 Answers__"
   ]
  },
  {
   "cell_type": "markdown",
   "metadata": {},
   "source": [
    "Importing the libraries"
   ]
  },
  {
   "cell_type": "code",
   "execution_count": 10,
   "metadata": {},
   "outputs": [],
   "source": [
    "import numpy as np\n",
    "import scipy as sp\n",
    "import math as m\n",
    "from prettytable import PrettyTable\n",
    "from Library_new import *"
   ]
  },
  {
   "cell_type": "markdown",
   "metadata": {},
   "source": [
    "## __Qn-1__: Solve $e^{−x}−x=0$ using fixed-point method, accurate up to 4 places in decimal(4).\n",
    "\n"
   ]
  },
  {
   "cell_type": "markdown",
   "metadata": {},
   "source": [
    "### Answer Q1:\n",
    "\n",
    "The equation to solve is $e^{-x}-x=0$, so for the fixed point method we need the function of the form $x=g(x)$, so we can write the equation as:\n",
    "\\begin{equation}\n",
    "x = e^{-x} \\text{ so that} \\quad g(x) = e^{-x}\n",
    "\\end{equation}\n",
    "\n",
    "Here we will be using the fixed point method for single variable function which is defined in the Library_new.py file in the Assignments folder because we are only dealing one variable. The implementation is given below:"
   ]
  },
  {
   "cell_type": "code",
   "execution_count": 11,
   "metadata": {},
   "outputs": [
    {
     "name": "stdout",
     "output_type": "stream",
     "text": [
      "The root of the equation is:  0.5671\n",
      "The number of steps are:  22\n"
     ]
    }
   ],
   "source": [
    "# Defining the function\n",
    "def f1(x):\n",
    "    return (np.exp(-x))-x\n",
    "def g1(x):\n",
    "    return np.exp(-x)\n",
    "\n",
    "# Calling the Fixed Point Iteration Method\n",
    "root,steps= fixed_point_single(g1,0,0.00001)\n",
    "\n",
    "# Displaying the result\n",
    "print(\"The root of the equation is: \", round(root,4))\n",
    "print(\"The number of steps are: \", steps)"
   ]
  },
  {
   "cell_type": "markdown",
   "metadata": {},
   "source": [
    "## __Qn-2:__ Use Simpson’s rule and appropriate Gaussian quadrature to evaluate the following integral accurate up to 6 places in decimal (5)\n",
    "\n",
    "\\begin{equation}\n",
    "\\int_{0}^{1} \\sqrt{1+x^4} dx\n",
    "\\end{equation}\n"
   ]
  },
  {
   "cell_type": "code",
   "execution_count": 18,
   "metadata": {},
   "outputs": [
    {
     "name": "stdout",
     "output_type": "stream",
     "text": [
      "+----------+-----------------+---------------------+\n",
      "| Method-> | Simpsons Method | Gaussian Quadrature |\n",
      "+----------+-----------------+---------------------+\n",
      "| Result-> |     1.089429    |    not calculated   |\n",
      "+----------+-----------------+---------------------+\n"
     ]
    }
   ],
   "source": [
    "# Defingin the function\n",
    "def f2(x):\n",
    "    return np.sqrt(1+(x**4))\n",
    "\n",
    "# Defining the limits and Number of subintervals\n",
    "a_q2 = 0\n",
    "b_q2 = 1\n",
    "N= 100\n",
    "\n",
    "# Calculating the integral using Simpson's method\n",
    "I_simp = simp_integ(f2,a_q2,b_q2,N)\n",
    "\n",
    "# Calculating the integral using Gaussian Quadrature\n",
    "\n",
    "\n",
    "# Create a new table\n",
    "table_qn2 = PrettyTable()\n",
    "table_qn2.field_names = [\"Method->\",\"Simpsons Method\",\"Gaussian Quadrature\"]\n",
    "table_qn2.add_row([\"Result->\",round(I_simp,6),\"not calculated\"])\n",
    "print(table_qn2)"
   ]
  }
 ],
 "metadata": {
  "kernelspec": {
   "display_name": "Python 3",
   "language": "python",
   "name": "python3"
  },
  "language_info": {
   "codemirror_mode": {
    "name": "ipython",
    "version": 3
   },
   "file_extension": ".py",
   "mimetype": "text/x-python",
   "name": "python",
   "nbconvert_exporter": "python",
   "pygments_lexer": "ipython3",
   "version": "3.12.1"
  }
 },
 "nbformat": 4,
 "nbformat_minor": 2
}
