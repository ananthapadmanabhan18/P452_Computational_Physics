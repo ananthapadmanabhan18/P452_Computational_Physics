{
 "cells": [
  {
   "cell_type": "markdown",
   "metadata": {},
   "source": [
    "# __Assignment-1 Answers__"
   ]
  },
  {
   "cell_type": "markdown",
   "metadata": {},
   "source": [
    "Importing the libraries"
   ]
  },
  {
   "cell_type": "code",
   "execution_count": 1,
   "metadata": {},
   "outputs": [],
   "source": [
    "import numpy as np\n",
    "import scipy as sp\n",
    "import math as m\n",
    "from prettytable import PrettyTable\n",
    "from Library_asgn1 import *"
   ]
  },
  {
   "cell_type": "markdown",
   "metadata": {},
   "source": [
    "## __Qn-1__: Solve $e^{−x}−x=0$ using fixed-point method, accurate up to 4 places in decimal(4).\n",
    "\n"
   ]
  },
  {
   "cell_type": "markdown",
   "metadata": {},
   "source": [
    "### Answer Q1:\n",
    "\n",
    "The equation to solve is $e^{-x}-x=0$, so for the fixed point method we need the function of the form $x=g(x)$, so we can write the equation as:\n",
    "\\begin{equation}\n",
    "x = e^{-x} \\text{ so that} \\quad g(x) = e^{-x}\n",
    "\\end{equation}\n",
    "\n",
    "Here we will be using the fixed point method for single variable function which is defined in the Library_new.py file in the Assignments folder because we are only dealing one variable. The implementation is given below:"
   ]
  },
  {
   "cell_type": "code",
   "execution_count": 2,
   "metadata": {},
   "outputs": [
    {
     "name": "stdout",
     "output_type": "stream",
     "text": [
      "The root of the equation is:  0.5671\n",
      "The number of steps are:  26\n"
     ]
    }
   ],
   "source": [
    "# Defining the function\n",
    "def f1(x):\n",
    "    return (np.exp(-x))-x\n",
    "def g1(x):\n",
    "    return np.exp(-x)\n",
    "\n",
    "# Calling the Fixed Point Iteration Method\n",
    "q1=Solve_Non_Linear_Equation(g1,None,None,None,.000001)\n",
    "guess=0\n",
    "root,steps= q1.fixed_point_single(guess)\n",
    "\n",
    "# Displaying the result\n",
    "print(\"The root of the equation is: \", round(root,4))\n",
    "print(\"The number of steps are: \", steps)"
   ]
  },
  {
   "cell_type": "markdown",
   "metadata": {},
   "source": [
    "## __Qn-2:__ Use Simpson’s rule and appropriate Gaussian quadrature to evaluate the following integral accurate up to 6 places in decimal (5)\n",
    "\n",
    "\\begin{equation}\n",
    "\\int_{0}^{1} \\sqrt{1+x^4} dx\n",
    "\\end{equation}\n"
   ]
  },
  {
   "cell_type": "code",
   "execution_count": 3,
   "metadata": {},
   "outputs": [
    {
     "name": "stdout",
     "output_type": "stream",
     "text": [
      "+---------------------+--------------+\n",
      "|        Method       | Integral (I) |\n",
      "+---------------------+--------------+\n",
      "|    Simpson's Rule   |   1.089429   |\n",
      "|    Midpoint Rule    |   1.089424   |\n",
      "|   Trapezoidal Rule  |   1.089441   |\n",
      "| Gaussian Quadrature |   1.089459   |\n",
      "+---------------------+--------------+\n"
     ]
    }
   ],
   "source": [
    "# Defining the function\n",
    "def f2(x):\n",
    "    return np.sqrt(1+(x**4))\n",
    "\n",
    "# Defining the limits and Number of subintervals\n",
    "a_q2 = 0\n",
    "b_q2 = 1\n",
    "N= 100\n",
    "\n",
    "# Calculating the integral using Newton-Cotes Quadrature\n",
    "p2_1=Newton_Cotes(f2,a_q2,b_q2,N)\n",
    "I_mid=p2_1.midpoint()\n",
    "I_trap=p2_1.trapezoidal()\n",
    "I_simp=p2_1.simpsons()\n",
    "\n",
    "## Calculating the integral using Gaussian Quadrature\n",
    "degree = 3\n",
    "p2_2 = Gaussian_Quadrature(f2,a_q2,b_q2,degree)\n",
    "I_gauss=p2_2.integrate()\n",
    "\n",
    "# Displaying the result\n",
    "I_list=[I_simp,I_mid,I_trap,I_gauss]\n",
    "M_list=[\"Simpson's Rule\",\"Midpoint Rule\",\"Trapezoidal Rule\",\"Gaussian Quadrature\"]\n",
    "\n",
    "# Create a new table\n",
    "table_qn2 = PrettyTable()\n",
    "table_qn2.field_names = [\"Method\",\"Integral (I)\"]\n",
    "for i in range(len(I_list)):\n",
    "    table_qn2.add_row([M_list[i],round(I_list[i],6)])\n",
    "print(table_qn2)"
   ]
  }
 ],
 "metadata": {
  "kernelspec": {
   "display_name": "Python 3",
   "language": "python",
   "name": "python3"
  },
  "language_info": {
   "codemirror_mode": {
    "name": "ipython",
    "version": 3
   },
   "file_extension": ".py",
   "mimetype": "text/x-python",
   "name": "python",
   "nbconvert_exporter": "python",
   "pygments_lexer": "ipython3",
   "version": "3.12.1"
  }
 },
 "nbformat": 4,
 "nbformat_minor": 2
}
