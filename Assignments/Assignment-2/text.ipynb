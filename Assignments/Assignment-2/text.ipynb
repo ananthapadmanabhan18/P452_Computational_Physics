{
 "cells": [
  {
   "cell_type": "code",
   "execution_count": 4,
   "metadata": {},
   "outputs": [],
   "source": [
    "from pypolar import jones\n",
    "import numpy as np\n",
    "pi=np.pi"
   ]
  },
  {
   "cell_type": "code",
   "execution_count": 20,
   "metadata": {},
   "outputs": [
    {
     "name": "stdout",
     "output_type": "stream",
     "text": [
      "[[0.-1.j 0.+0.j]\n",
      " [0.+0.j 0.+1.j]]\n"
     ]
    }
   ],
   "source": [
    "Light = [[1/np.sqrt(2)],[1/np.sqrt(2)]]\n",
    "A = jones.op_half_wave_plate(pi/2)\n",
    "P = jones.op_linear_polarizer(pi/4)\n",
    "Mirror = jones.op_mirror()\n",
    "# print(np.round(P@A@Mirror@A@Light,4))\n",
    "print(np.round(A,4))"
   ]
  }
 ],
 "metadata": {
  "kernelspec": {
   "display_name": "Python 3",
   "language": "python",
   "name": "python3"
  },
  "language_info": {
   "codemirror_mode": {
    "name": "ipython",
    "version": 3
   },
   "file_extension": ".py",
   "mimetype": "text/x-python",
   "name": "python",
   "nbconvert_exporter": "python",
   "pygments_lexer": "ipython3",
   "version": "3.8.6"
  }
 },
 "nbformat": 4,
 "nbformat_minor": 2
}
