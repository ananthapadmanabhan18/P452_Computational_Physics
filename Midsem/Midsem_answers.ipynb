{
 "cells": [
  {
   "cell_type": "markdown",
   "metadata": {},
   "source": [
    "# __Midsemester Exam Answers__"
   ]
  },
  {
   "cell_type": "code",
   "execution_count": 1,
   "metadata": {},
   "outputs": [],
   "source": [
    "import numpy as np\n",
    "from Library_Midsem import *"
   ]
  },
  {
   "cell_type": "markdown",
   "metadata": {},
   "source": [
    "## Question-1\n"
   ]
  },
  {
   "cell_type": "code",
   "execution_count": 7,
   "metadata": {},
   "outputs": [
    {
     "name": "stdout",
     "output_type": "stream",
     "text": [
      "The solution using Newton Raphson method is:  2.623140335436253 Obtained in  3  steps\n"
     ]
    }
   ],
   "source": [
    "def f(x): # Define the function for the solution\n",
    "    return np.log(x/2) - np.sin(5*x/2)\n",
    "\n",
    "def df(x): # Define the derivative of the function for newton Raphson\n",
    "    return 1/(x) - (5/2)*np.cos(5*x/2)\n",
    "\n",
    "a_q1 = 1.5\n",
    "b_q1 = 2.5\n",
    "accuracy_q1 = 1e-6\n",
    "\n",
    "\n",
    "soln_newton,step_newton = newton_raphson_single(f,df, 2.5, accuracy_q1)\n",
    "# soln_regula,step_regula = regula_falsi(f, a_q1, b_q1, accuracy_q1,ifbracket=True)\n",
    "\n",
    "\n",
    "print(\"The solution using Newton Raphson method is: \", soln_newton,\"Obtained in \",step_newton,\" steps\")\n",
    "# print(\"The solution using Regula Falsi method is: \", soln_regula,\"Obtained in \",step_regula,\" steps\")\n",
    "\n",
    "\n",
    "\n"
   ]
  },
  {
   "cell_type": "markdown",
   "metadata": {},
   "source": [
    "## Question-2"
   ]
  },
  {
   "cell_type": "code",
   "execution_count": null,
   "metadata": {},
   "outputs": [],
   "source": []
  },
  {
   "cell_type": "markdown",
   "metadata": {},
   "source": [
    "## Question-3"
   ]
  },
  {
   "cell_type": "code",
   "execution_count": null,
   "metadata": {},
   "outputs": [],
   "source": []
  },
  {
   "cell_type": "markdown",
   "metadata": {},
   "source": [
    "## Question-4\n",
    "\n",
    "we have the mass density as:\n",
    "\\begin{equation}\n",
    "\\lambda (x) = x^2\n",
    "\\end{equation}\n",
    "\n",
    "so $dm = \\lambda (x) dx = x^2 dx$\n",
    "\n",
    "the center of mass is given by:\n",
    "\\begin{equation}\n",
    "\\bar{x} = \\frac{\\int x \\lambda (x) dx}{\\int \\lambda (x) dx}\n",
    "\\end{equation}\n",
    "\n",
    "and the integration limit is from 0 to 2, so:\n",
    "\\begin{equation}\n",
    "COM = \\bar{x} = \\frac{\\int_0^2 x x^2 dx}{\\int_0^2 x^2 dx}\n",
    "\\end{equation}\n"
   ]
  },
  {
   "cell_type": "code",
   "execution_count": 15,
   "metadata": {},
   "outputs": [
    {
     "name": "stdout",
     "output_type": "stream",
     "text": [
      "The center of mass of the Rod is at:  1.5000 m\n"
     ]
    }
   ],
   "source": [
    "def lambda_x(x):\n",
    "    return x**2\n",
    "\n",
    "def xlambda_x(x):\n",
    "    return x*lambda_x(x)\n",
    "\n",
    "a_q2 = 0\n",
    "b_q2 = 2\n",
    "\n",
    "I1_qn4 = simpsons(lambda_x, a_q2, b_q2, 1000)\n",
    "I2_qn4 = simpsons(xlambda_x, a_q2, b_q2, 1000)\n",
    "\n",
    "COM = I2_qn4/I1_qn4\n",
    "print(\"The center of mass of the Rod is at: \", f'{COM:.4f}', \"m\")"
   ]
  },
  {
   "cell_type": "markdown",
   "metadata": {},
   "source": [
    "## Question-5"
   ]
  },
  {
   "cell_type": "code",
   "execution_count": null,
   "metadata": {},
   "outputs": [],
   "source": []
  }
 ],
 "metadata": {
  "kernelspec": {
   "display_name": "Python 3",
   "language": "python",
   "name": "python3"
  },
  "language_info": {
   "codemirror_mode": {
    "name": "ipython",
    "version": 3
   },
   "file_extension": ".py",
   "mimetype": "text/x-python",
   "name": "python",
   "nbconvert_exporter": "python",
   "pygments_lexer": "ipython3",
   "version": "3.12.1"
  }
 },
 "nbformat": 4,
 "nbformat_minor": 2
}
