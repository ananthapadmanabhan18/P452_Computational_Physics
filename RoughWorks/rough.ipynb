{
 "cells": [
  {
   "cell_type": "code",
   "execution_count": null,
   "metadata": {},
   "outputs": [],
   "source": [
    "from Library_rough import Numerical_integration"
   ]
  },
  {
   "cell_type": "code",
   "execution_count": 4,
   "metadata": {},
   "outputs": [],
   "source": [
    "class Numerical_integration:\n",
    "    def __init__(self, f, a, b,n):\n",
    "        self.a = a\n",
    "        self.b = b\n",
    "        self.n = n\n",
    "        self.f = f\n",
    "\n",
    "    def printf(self):\n",
    "        print(self.a, self.b, self.n, self.f)\n",
    "\n",
    "    def simpsons(self):\n",
    "        h=(self.b-self.a)/self.n\n",
    "        I=0\n",
    "        x=self.a\n",
    "        while x<=self.b:\n",
    "            I+=h/3*(self.f(x)+4*self.f(x+h/2)+self.f(x+h))*0.5\n",
    "            x+=h\n",
    "        return I    \n",
    "\n",
    "\n",
    "\n",
    "        \n",
    "\n"
   ]
  },
  {
   "cell_type": "code",
   "execution_count": 5,
   "metadata": {},
   "outputs": [
    {
     "name": "stdout",
     "output_type": "stream",
     "text": [
      "2 3 4 1\n"
     ]
    }
   ],
   "source": [
    "p= Numerical_integration(1, 2, 3, 4)\n",
    "p.printf()"
   ]
  }
 ],
 "metadata": {
  "kernelspec": {
   "display_name": "Python 3",
   "language": "python",
   "name": "python3"
  },
  "language_info": {
   "codemirror_mode": {
    "name": "ipython",
    "version": 3
   },
   "file_extension": ".py",
   "mimetype": "text/x-python",
   "name": "python",
   "nbconvert_exporter": "python",
   "pygments_lexer": "ipython3",
   "version": "3.12.1"
  }
 },
 "nbformat": 4,
 "nbformat_minor": 2
}
